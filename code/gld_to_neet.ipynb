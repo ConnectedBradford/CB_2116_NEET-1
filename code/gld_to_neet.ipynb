{
 "cells": [
  {
   "cell_type": "markdown",
   "id": "9f39574f-d943-4645-89cc-1a2fd580d635",
   "metadata": {},
   "source": [
    "# GLD to NEET"
   ]
  },
  {
   "cell_type": "code",
   "execution_count": null,
   "id": "113ecc48-8d05-4d3a-ad19-64383cf1330a",
   "metadata": {
    "vscode": {
     "languageId": "r"
    }
   },
   "outputs": [],
   "source": [
    "library(bigrquery)\n",
    "library(tidyverse)\n",
    "library(dbplyr)\n",
    "library(lavaan)\n",
    "library(cowplot)\n",
    "library(margins)\n",
    "library(finalfit)\n",
    "\n",
    "# Store the project ID\n",
    "project_id = \"yhcr-prd-phm-bia-core\"\n",
    "dataset = \"CB_FDM_DepartmentForEducation\"\n",
    "\n",
    "# Store the FDM targetdb\n",
    "targetdb <- paste(project_id, dataset, sep = \".\")\n",
    "targetdb <-gsub(' ','',targetdb)\n",
    "#print (targetdb)\n",
    "\n",
    "# create connection to database\n",
    "con <- DBI::dbConnect(bigrquery::bigquery(), \n",
    "                      project = project_id,\n",
    "                      dataset = dataset)\n",
    "\n",
    "print(paste0(\"Connected to : \", targetdb))"
   ]
  },
  {
   "cell_type": "code",
   "execution_count": null,
   "id": "301c7d2e-e7bc-4da1-9d2d-f7c6be5f9c20",
   "metadata": {
    "vscode": {
     "languageId": "r"
    }
   },
   "outputs": [],
   "source": [
    "my_theme <- function() {\n",
    "  theme_cowplot() %+replace%\n",
    "    theme(strip.background = element_blank(),\n",
    "          strip.placement = \"outside\",\n",
    "          panel.spacing = unit(1, \"lines\"),\n",
    "          text = element_text(size = 9),\n",
    "          strip.text = element_text(size = 9),\n",
    "          axis.text = element_text(size = 7),\n",
    "          axis.title = element_text(size = 9),\n",
    "          legend.position = \"none\") \n",
    "}"
   ]
  },
  {
   "cell_type": "markdown",
   "id": "984c0b31-26f3-4dc1-bfd1-e63e5fb3f846",
   "metadata": {},
   "source": [
    "## EYFSP"
   ]
  },
  {
   "cell_type": "code",
   "execution_count": null,
   "id": "3b53bc50-ba29-44a3-80b8-a230c206df3e",
   "metadata": {
    "vscode": {
     "languageId": "r"
    }
   },
   "outputs": [],
   "source": [
    "# people with a single EYFSP entry\n",
    "all_eyfsp <- tbl(con, \"src_EYFSP\")\n",
    "\n",
    "eyfsp_students_multiple_entries <- all_eyfsp |>\n",
    "    select(person_id, AcademicYear) |>\n",
    "    group_by(person_id, AcademicYear) |>\n",
    "    summarise(n_per_year = n()) |>\n",
    "    group_by(person_id) |>\n",
    "    mutate(n_overall = n()) |> \n",
    "    filter(n_overall >= 2) |>\n",
    "    select(-c(n_overall,n_per_year)) |>\n",
    "    ungroup() |>\n",
    "    arrange(person_id) |> \n",
    "    pull(person_id) |> \n",
    "    unique() \n",
    "\n",
    "length(eyfsp_students_multiple_entries)"
   ]
  },
  {
   "cell_type": "code",
   "execution_count": null,
   "id": "c745be6e-84f3-4c6e-8c0f-e302cb8af542",
   "metadata": {
    "vscode": {
     "languageId": "r"
    }
   },
   "outputs": [],
   "source": [
    "eyfsp_students <- all_eyfsp |>\n",
    "    group_by(person_id, AcademicYear) |>\n",
    "    summarise(n = n()) |>\n",
    "    group_by(person_id) |>\n",
    "    filter(n == 1) |>\n",
    "    select(-n) |>\n",
    "    mutate(in_eyfsp = TRUE) |>\n",
    "    rename(eyfsp_AcademicYear = AcademicYear)\n",
    "\n",
    "eyfsp_students <- eyfsp_students |>\n",
    "    filter(!eyfsp_AcademicYear %in% c(\"2002/2003\", \"2003/2004\", \"2004/2005\", \"2005/2006\"))"
   ]
  },
  {
   "cell_type": "code",
   "execution_count": null,
   "id": "b214ff43-51bb-4706-b9da-00a25a52833a",
   "metadata": {
    "vscode": {
     "languageId": "r"
    }
   },
   "outputs": [],
   "source": [
    "# calculate GLD for the require years\n",
    "gld_2007_to_2012 <- all_eyfsp |>\n",
    "    left_join(eyfsp_students) |>\n",
    "    filter(!is.na(in_eyfsp)) |>\n",
    "    filter(eyfsp_AcademicYear %in% c(\"2006/2007\", \"2007/2008\", \"2008/2009\", \"2009/2010\", \"2010/2011\", \"2011/2012\"),\n",
    "           !is.na(EYFSPTotal)) |>\n",
    "    mutate(GLD_new = case_when(\n",
    "        as.numeric(EYFSPTotal) >= 78 & \n",
    "            PSEAS1 != \"N\" & as.numeric(PSEAS1) >= 6 & \n",
    "            PSEAS2 != \"N\" & as.numeric(PSEAS2) >= 6 & \n",
    "            PSEAS3 != \"N\" & as.numeric(PSEAS3) >= 6 & \n",
    "            CLLAS1 != \"N\" & as.numeric(CLLAS1) >= 6 & \n",
    "            CLLAS2 != \"N\" & as.numeric(CLLAS2) >= 6 & \n",
    "            CLLAS3 != \"N\" & as.numeric(CLLAS3) >= 6 & \n",
    "            CLLAS4 != \"N\" & as.numeric(CLLAS4) >= 6 ~ TRUE,\n",
    "        TRUE ~ FALSE\n",
    "    )) |> \n",
    "    select(person_id, eyfsp_AcademicYear, GLD_new)"
   ]
  },
  {
   "cell_type": "code",
   "execution_count": null,
   "id": "174194ec-f102-476f-a848-3c1a00bd3f67",
   "metadata": {
    "vscode": {
     "languageId": "r"
    }
   },
   "outputs": [],
   "source": [
    "# compare new gld to old for 2011/2012\n",
    "eyfsp_gld <- all_eyfsp |>\n",
    "    left_join(eyfsp_students) |>\n",
    "    filter(!is.na(in_eyfsp)) |> \n",
    "    left_join(gld_2007_to_2012, by = c(\"person_id\", \"eyfsp_AcademicYear\")) |> \n",
    "    filter(!(is.na(GLD) & is.na(GLD_new)))\n",
    "\n",
    "eyfsp_gld_2012 <- eyfsp_gld |> \n",
    "    filter(eyfsp_AcademicYear == \"2011/2012\") |> \n",
    "    select(GLD, GLD_new) |> \n",
    "    collect()\n",
    "\n",
    "table(eyfsp_gld_2012$GLD, eyfsp_gld_2012$GLD_new)"
   ]
  },
  {
   "cell_type": "code",
   "execution_count": null,
   "id": "825f9042-b63f-42dd-b70c-e6331b9f90d0",
   "metadata": {
    "vscode": {
     "languageId": "r"
    }
   },
   "outputs": [],
   "source": [
    "eyfsp <- eyfsp_gld |> \n",
    "    filter(!person_id %in% eyfsp_students_multiple_entries) |> \n",
    "    mutate(GLD_final = coalesce(GLD_new, GLD),\n",
    "           gld_dummy = ifelse(GLD_final, 1, 0),\n",
    "           in_eyfsp = TRUE)"
   ]
  },
  {
   "cell_type": "markdown",
   "id": "07d997f0-e273-471b-b816-98d91c7f499e",
   "metadata": {},
   "source": [
    "## NCCIS w/ EYFSP"
   ]
  },
  {
   "cell_type": "code",
   "execution_count": null,
   "id": "6a52a781-62b1-4929-b921-3d17888cb29e",
   "metadata": {
    "vscode": {
     "languageId": "r"
    }
   },
   "outputs": [],
   "source": [
    "# check how many valid people with EYFSP entries have NEET status\n",
    "nccis_with_eyfsp_temp <- tbl(con, \"src_NCCIS\") |>\n",
    "    left_join(\n",
    "        eyfsp |>\n",
    "            select(person_id, eyfsp_AcademicYear, in_eyfsp, GLD_final, gld_dummy)\n",
    "    ) |>\n",
    "    filter(!is.na(in_eyfsp)) \n",
    "\n",
    "unknowns <- nccis_with_eyfsp_temp |> \n",
    "    group_by(person_id) |> \n",
    "    summarise(unknown = all(CurrentActivityCode %in% c(810, 820, 830))) |> \n",
    "    filter(unknown) |> \n",
    "    pull(person_id)\n",
    "\n",
    "nccis_with_eyfsp <- nccis_with_eyfsp_temp |> \n",
    "    filter(!person_id %in% unknowns)"
   ]
  },
  {
   "cell_type": "code",
   "execution_count": null,
   "id": "99950483-8ef6-4869-8a19-51f1da010f77",
   "metadata": {
    "vscode": {
     "languageId": "r"
    }
   },
   "outputs": [],
   "source": [
    "person_ids_in_2007 <- nccis_with_eyfsp |> \n",
    "    select(person_id, AcademicYear, eyfsp_AcademicYear) |>\n",
    "    mutate(eyfsp_AcademicYearStart = substr(eyfsp_AcademicYear, 1, 4),\n",
    "           eyfsp_AcademicYearEnd = substr(eyfsp_AcademicYear, 6, 9)) |>\n",
    "    filter(eyfsp_AcademicYearEnd == \"2007\") |> \n",
    "    pull(person_id) |> \n",
    "    unique()\n",
    "\n",
    "length(person_ids_in_2007)\n",
    "\n",
    "nccis_with_eyfsp <- nccis_with_eyfsp |> \n",
    "    filter(person_id %in% person_ids_in_2007)"
   ]
  },
  {
   "cell_type": "code",
   "execution_count": null,
   "id": "10aa031c-24b4-4d94-b416-1291f22f91ba",
   "metadata": {
    "vscode": {
     "languageId": "r"
    }
   },
   "outputs": [],
   "source": [
    "ever_neet_gld <- nccis_with_eyfsp |> \n",
    "    group_by(person_id, GLD_final, gld_dummy) |> \n",
    "    summarise(ever_neet = any(!is.na(NEETStartDate))) |> \n",
    "    mutate(ever_neet_dummy = ifelse(ever_neet, 1, 0))\n",
    "\n",
    "nrow(ever_neet_gld |> collect())\n",
    "length(ever_neet_gld |> pull(person_id) |> unique())"
   ]
  },
  {
   "cell_type": "markdown",
   "id": "04ee1b48-26f5-444c-8dd2-d41360d862f4",
   "metadata": {},
   "source": [
    "## GLD -> NEET with covariates"
   ]
  },
  {
   "cell_type": "code",
   "execution_count": null,
   "id": "482728c3-95f7-479c-8c19-826eda0df9d5",
   "metadata": {
    "vscode": {
     "languageId": "r"
    }
   },
   "outputs": [],
   "source": [
    "people_in_final_sample <- ever_neet_gld |> \n",
    "    ungroup() |> \n",
    "    pull(person_id) |> \n",
    "    unique() \n",
    "\n",
    "length(people_in_final_sample)"
   ]
  },
  {
   "cell_type": "markdown",
   "id": "53ac3c53-447b-40dc-a1e2-97ea81fa37f9",
   "metadata": {},
   "source": [
    "### Person table"
   ]
  },
  {
   "cell_type": "code",
   "execution_count": null,
   "id": "e05725b3-2e7c-4626-8737-d107ffdd8221",
   "metadata": {
    "tags": [],
    "vscode": {
     "languageId": "r"
    }
   },
   "outputs": [],
   "source": [
    "master_con <- DBI::dbConnect(bigrquery::bigquery(), \n",
    "                      project = project_id,\n",
    "                      dataset = \"CB_FDM_MASTER\")\n",
    "\n",
    "person_table <- tbl(master_con, \"person\") |> \n",
    "    filter(person_id %in% people_in_final_sample) |> \n",
    "    select(person_id, month_of_birth, gender_source_value, ethnicity_source_value) |> \n",
    "    mutate(academic_month_of_birth = ifelse(month_of_birth - 9 < 0, month_of_birth - 9 + 12, month_of_birth - 9),\n",
    "           gender = ifelse(gender_source_value == \"U\", NA, gender_source_value))"
   ]
  },
  {
   "cell_type": "markdown",
   "id": "2d5738a9-a7b7-4829-bc10-1eaa7bbc1586",
   "metadata": {},
   "source": [
    "#### Ethnicity (preliminary)"
   ]
  },
  {
   "cell_type": "code",
   "execution_count": null,
   "id": "5ae03711-024d-449a-8ab6-02af7061055c",
   "metadata": {
    "vscode": {
     "languageId": "r"
    }
   },
   "outputs": [],
   "source": [
    "person_table_final <- person_table |> \n",
    "    mutate(ethnicity = case_when(\n",
    "        str_detect(ethnicity_source_value, \"Unknown\") ~ NA_character_,\n",
    "        str_detect(ethnicity_source_value, \"Asian or Asian British: Indian\") ~ \"South Asian\",\n",
    "        str_detect(ethnicity_source_value, \"Asian or Asian British: Pakistani\") ~ \"South Asian\",\n",
    "        str_detect(ethnicity_source_value, \"Asian or Asian British: Bangladeshi\") ~ \"South Asian\",\n",
    "        str_detect(ethnicity_source_value, \"White: English or Welsh or Scottish or Northern Irish or British\") ~ \"White British\",\n",
    "        TRUE ~ \"Other\"\n",
    "    )) |> \n",
    "    collect()"
   ]
  },
  {
   "cell_type": "markdown",
   "id": "5959644f-5cf6-495d-9822-4e01c04c4e2a",
   "metadata": {},
   "source": [
    "#### Month of birth"
   ]
  },
  {
   "cell_type": "code",
   "execution_count": null,
   "id": "1d6410d4-d011-4596-9729-28ed5980f53e",
   "metadata": {
    "tags": [],
    "vscode": {
     "languageId": "r"
    }
   },
   "outputs": [],
   "source": [
    "month_of_birth <- person_table_final |> \n",
    "    select(person_id, academic_month_of_birth)"
   ]
  },
  {
   "cell_type": "markdown",
   "id": "956fcce6-e6fb-4a4e-8723-a8d355db11e1",
   "metadata": {},
   "source": [
    "#### Gender"
   ]
  },
  {
   "cell_type": "code",
   "execution_count": null,
   "id": "e4fd5dd2-11c6-437c-b0cf-997cb95fd7cc",
   "metadata": {
    "vscode": {
     "languageId": "r"
    }
   },
   "outputs": [],
   "source": [
    "gender <- person_table_final |> \n",
    "    mutate(Male = ifelse(is.na(gender), NA, ifelse(gender == \"M\", 1, 0))) |> \n",
    "    select(person_id, Male)"
   ]
  },
  {
   "cell_type": "markdown",
   "id": "7691e16b-4c2f-4ffc-9606-d137a0a9f291",
   "metadata": {},
   "source": [
    "#### Combined ethnicity from person table and school census"
   ]
  },
  {
   "cell_type": "code",
   "execution_count": null,
   "id": "9f137d6c-a0cd-4b77-8dd4-b2519b7ccd1f",
   "metadata": {
    "vscode": {
     "languageId": "r"
    }
   },
   "outputs": [],
   "source": [
    "school_census <- tbl(con, \"src_census\") |> \n",
    "    filter(person_id %in% people_in_final_sample) |> \n",
    "    select(person_id, Ethnicity) |> \n",
    "    collect()\n",
    "\n",
    "school_based_ethnicity <- school_census |> \n",
    "    arrange(person_id) |> \n",
    "    group_by(person_id, Ethnicity) |> \n",
    "    summarise(n = n()) |> \n",
    "    group_by(person_id) |> \n",
    "    filter(!is.na(Ethnicity), !Ethnicity %in% c(\"NOBT\", \"UNCL\", \"REFU\")) |> \n",
    "    filter(Ethnicity == Ethnicity[first(which(n == max(n)))]) |> \n",
    "    mutate(EthnicityGroup = case_when(\n",
    "        is.na(Ethnicity) ~ NA_character_,\n",
    "        Ethnicity %in% c(\"NOBT\", \"UNCL\", \"REFU\") ~ NA_character_,\n",
    "        Ethnicity %in% c(\"ABAN\", \"AIND\", \"AKAO\", \"AKPA\", \"AMPK\", \"AOPK\", \"APKN\") ~ \"South Asian\",\n",
    "        Ethnicity %in% c(\"WBRI\", \"WENG\", \"WCOR\", \"WSCO\", \"WOWB\", \"WWEL\", \"WIRI\") ~ \"White British\",\n",
    "        TRUE ~ \"Other\"\n",
    "    ))\n",
    "\n",
    "combined_ethnicity <- person_table_final |> \n",
    "    rename(person_ethnicity = ethnicity) |> \n",
    "    left_join(school_based_ethnicity) |> \n",
    "    mutate(CombinedEthnicity = coalesce(person_ethnicity, EthnicityGroup))\n",
    "\n",
    "combined_ethnicity |> \n",
    "    group_by(CombinedEthnicity) |> \n",
    "    summarise(n = n())\n",
    "\n",
    "combined_ethnicity |> \n",
    "    ungroup() |> \n",
    "    filter(!is.na(person_ethnicity) & !is.na(EthnicityGroup)) |> \n",
    "    mutate(match = person_ethnicity == EthnicityGroup) |> \n",
    "    group_by(person_ethnicity) |> \n",
    "    summarise(prop_match = sum(match) / n(),\n",
    "              sum_match = sum(match),\n",
    "             n = n())\n",
    "\n",
    "ethnicity <- combined_ethnicity |> \n",
    "    select(person_id, CombinedEthnicity) |> \n",
    "    mutate(EthnicityAsian = ifelse(is.na(CombinedEthnicity), NA, ifelse(CombinedEthnicity == \"South Asian\", 1, 0)),\n",
    "           EthnicityOther = ifelse(is.na(CombinedEthnicity), NA, ifelse(CombinedEthnicity == \"Other\", 1, 0)),\n",
    "           CombinedEthnicity = factor(CombinedEthnicity, levels = c(\"White British\", \"South Asian\", \"Other\")))"
   ]
  },
  {
   "cell_type": "markdown",
   "id": "44af54fd-3a47-4e24-a0cc-6507227a5f4b",
   "metadata": {},
   "source": [
    "#### English as additional language (EAL)"
   ]
  },
  {
   "cell_type": "code",
   "execution_count": null,
   "id": "25e007de-d36b-4de9-9106-11ce0bb7eccc",
   "metadata": {
    "vscode": {
     "languageId": "r"
    }
   },
   "outputs": [],
   "source": [
    "language_temp <- tbl(con, \"src_census\") |> \n",
    "    filter(person_id %in% people_in_final_sample) |> \n",
    "    select(person_id, Language) |> \n",
    "    collect()\n",
    "\n",
    "english_additional_language <- language_temp |> \n",
    "    filter(!is.na(Language)) |> \n",
    "    mutate(EAL = !Language %in% c(\"ENG\", \"ENB\")) |> \n",
    "    group_by(person_id, EAL) |> \n",
    "    summarise(n = n()) |> \n",
    "    group_by(person_id) |> \n",
    "    slice_max(n) |> \n",
    "    mutate(num = n()) |> \n",
    "    filter(num == 1 | num > 1 & EAL) |> \n",
    "    select(person_id, EAL) |> \n",
    "    mutate(EAL = ifelse(EAL, 1, 0))"
   ]
  },
  {
   "cell_type": "markdown",
   "id": "dee71f4b-1a3b-4aee-9817-92e3114f5038",
   "metadata": {},
   "source": [
    "#### Ever Free School Meals (eFMS)"
   ]
  },
  {
   "cell_type": "code",
   "execution_count": null,
   "id": "079f2c76-e1a6-41dc-8d19-5100baeb312b",
   "metadata": {
    "vscode": {
     "languageId": "r"
    }
   },
   "outputs": [],
   "source": [
    "years_to_include <- paste0(seq(2006, 2017, 1), \"/\", seq(2007, 2018, 1))\n",
    "\n",
    "fsm_temp <- tbl(con, \"src_census\") |> \n",
    "    filter(person_id %in% people_in_final_sample,\n",
    "           AcademicYear %in% years_to_include) |> \n",
    "    select(person_id, FSMEligible, AcademicYear) |> \n",
    "    collect()\n",
    "\n",
    "fsm <- fsm_temp |> \n",
    "    filter(!is.na(FSMEligible)) |> \n",
    "    group_by(person_id) |> \n",
    "    summarise(ever_fsm = any(FSMEligible))"
   ]
  },
  {
   "cell_type": "markdown",
   "id": "86b9a1e6-dda6-4f98-b12c-4bf3673deee2",
   "metadata": {},
   "source": [
    "#### Ever SEN"
   ]
  },
  {
   "cell_type": "code",
   "execution_count": null,
   "id": "a4101309-2a73-49e5-9dd0-c5cf9a0a9e53",
   "metadata": {
    "vscode": {
     "languageId": "r"
    }
   },
   "outputs": [],
   "source": [
    "sen_temp <- tbl(con, \"src_census\") |> \n",
    "    filter(person_id %in% people_in_final_sample,\n",
    "          AcademicYear %in% years_to_include) |> \n",
    "    select(person_id, SENprovision, AcademicYear) |> \n",
    "    collect()\n",
    "\n",
    "sen <- sen_temp |> \n",
    "    filter(!is.na(SENprovision)) |> \n",
    "    group_by(person_id) |> \n",
    "    summarise(ever_sen = any(SENprovision %in% c(\"A\", \"P\", \"S\", \"K\", \"E\")))"
   ]
  },
  {
   "cell_type": "markdown",
   "id": "01daf5c1-f77a-411c-a09b-c68285b4b617",
   "metadata": {},
   "source": [
    "## Make full dataset"
   ]
  },
  {
   "cell_type": "code",
   "execution_count": null,
   "id": "9bf43787-fa95-4346-84ec-ada05d3a3885",
   "metadata": {
    "vscode": {
     "languageId": "r"
    }
   },
   "outputs": [],
   "source": [
    "ever_neet_gld_cov <- ever_neet_gld |> \n",
    "    collect() |> \n",
    "    left_join(gender) |> \n",
    "    left_join(month_of_birth) |> \n",
    "    left_join(ethnicity) |> \n",
    "    left_join(english_additional_language) |> \n",
    "    left_join(fsm) |> \n",
    "    left_join(sen) |> \n",
    "    filter(!is.na(CombinedEthnicity), !is.na(Male), !is.na(EAL), !is.na(ever_fsm), !is.na(ever_sen))\n",
    "\n",
    "nrow(ever_neet_gld_cov)\n",
    "\n",
    "summary_factorlist(ever_neet_gld_cov, explanatory = c(\"ever_neet\", \"GLD_final\", \"ever_fsm\", \"ever_sen\", \"Male\", \"academic_month_of_birth\", \"EAL\", \"CombinedEthnicity\"))"
   ]
  },
  {
   "cell_type": "markdown",
   "id": "3992d129-0ed0-4434-9318-b8669ceb52d6",
   "metadata": {},
   "source": [
    "### Model 1"
   ]
  },
  {
   "cell_type": "code",
   "execution_count": null,
   "id": "e64d546d-7e03-4636-b255-cdf6a344e942",
   "metadata": {
    "vscode": {
     "languageId": "r"
    }
   },
   "outputs": [],
   "source": [
    "summary(neet_gld_model_probit <- glm(ever_neet ~ GLD_final, data = ever_neet_gld_cov, family = binomial(link = \"probit\")))\n",
    "\n",
    "confint(neet_gld_model_probit)\n",
    "DescTools::PseudoR2(neet_gld_model_probit, which = \"McFadden\")\n",
    "DescTools::PseudoR2(neet_gld_model_probit, which = \"McKelveyZavoina\")"
   ]
  },
  {
   "cell_type": "code",
   "execution_count": null,
   "id": "438043a4-75de-44bf-afd9-bf0292452cab",
   "metadata": {
    "vscode": {
     "languageId": "r"
    }
   },
   "outputs": [],
   "source": [
    "print(paste0(\"Probability of NEET without reaching GLD: \", sprintf(\"%.3f\", pnorm(coef(neet_gld_model_probit)[[1]]))))\n",
    "print(paste0(\"Probability of NEET with reaching GLD: \", sprintf(\"%.3f\", pnorm(coef(neet_gld_model_probit)[[1]] + coef(neet_gld_model_probit)[[2]]))))"
   ]
  },
  {
   "cell_type": "code",
   "execution_count": null,
   "id": "d994a000-98f9-4533-86e1-ac641f3f59cf",
   "metadata": {
    "vscode": {
     "languageId": "r"
    }
   },
   "outputs": [],
   "source": [
    "ever_neet_gld_matrix <- ever_neet_gld_cov |> \n",
    "    group_by(ever_neet, GLD_final) |> \n",
    "    summarise(n = n())\n",
    "\n",
    "ever_neet_gld_matrix |> \n",
    "    ggplot(aes(x = GLD_final, y = ever_neet, fill = n)) +\n",
    "        geom_tile() +\n",
    "        geom_text(aes(label = paste0(\"n = \", n)), color = \"white\", fontface = \"bold\", size = 12 * .36) +\n",
    "        labs(x = \"Reached GLD\", y = \"Ever NEET\") +\n",
    "        cowplot::theme_cowplot() +\n",
    "        theme(legend.position = \"none\") +\n",
    "        coord_equal()"
   ]
  },
  {
   "cell_type": "markdown",
   "id": "8d13880a-c0bf-4476-a2d4-1572fe6d4e05",
   "metadata": {},
   "source": [
    "### Model 2"
   ]
  },
  {
   "cell_type": "markdown",
   "id": "3ee326a8-1335-4ab3-a49e-761b71b7bcd4",
   "metadata": {},
   "source": [
    "Demographic table:"
   ]
  },
  {
   "cell_type": "code",
   "execution_count": null,
   "id": "367ea1d5-ef2f-4f56-a54a-4e32f8e56531",
   "metadata": {
    "vscode": {
     "languageId": "r"
    }
   },
   "outputs": [],
   "source": [
    "summary(neet_gld_cov_model_probit <- glm(ever_neet ~ GLD_final + ever_fsm + ever_sen + Male + academic_month_of_birth + EAL + CombinedEthnicity, data = ever_neet_gld_cov, family = binomial(link = \"probit\")))\n",
    "confint(neet_gld_cov_model_probit)\n",
    "\n",
    "library(margins)\n",
    "\n",
    "summary(margins(neet_gld_cov_model_probit))\n",
    "DescTools::PseudoR2(neet_gld_cov_model_probit, which = \"McFadden\")\n",
    "DescTools::PseudoR2(neet_gld_cov_model_probit, which = \"McKelveyZavoina\")"
   ]
  },
  {
   "cell_type": "code",
   "execution_count": null,
   "id": "8485cbb9-9860-4a38-a7d7-f9f13cdcefb5",
   "metadata": {
    "vscode": {
     "languageId": "r"
    }
   },
   "outputs": [],
   "source": [
    "people <- data.frame(academic_month_of_birth = c(11, 0),\n",
    "                     CombinedEthnicity = c(\"White British\", \"Other\", \"White British\", \"Other\"),\n",
    "                     EAL = c(0, 1, 0, 1),\n",
    "                     ever_fsm = c(FALSE, TRUE, FALSE, TRUE),\n",
    "                    ever_sen = c(FALSE, TRUE, FALSE, TRUE),\n",
    "                    GLD_final = c(TRUE, FALSE, FALSE, TRUE),\n",
    "                     Male = c(0, 1, 0, 1)) %>%\n",
    "    mutate(prob_neet = predict(neet_gld_cov_model_probit, newdata = ., type = \"response\"),\n",
    "          group = c(\"least\", \"most\", \"least_no_gld\", \"most_with_gld\"))\n",
    "\n",
    "people |> \n",
    "    left_join(ever_neet_gld_cov) |> \n",
    "    group_by(group) |> \n",
    "    summarise(n = n(),\n",
    "             prob_neet = first(prob_neet))"
   ]
  },
  {
   "cell_type": "markdown",
   "id": "3d91479d-909c-4262-9f6a-286e4f1abe43",
   "metadata": {},
   "source": [
    "## Do key stages mediate GLD -> NEET?\n",
    "\n",
    "### Key stage 1"
   ]
  },
  {
   "cell_type": "code",
   "execution_count": null,
   "id": "b8d445f8-114c-4b90-afb1-a5b02e45e8a3",
   "metadata": {
    "vscode": {
     "languageId": "r"
    }
   },
   "outputs": [],
   "source": [
    "ks1_full_all <- tbl(con, \"src_KS1\") |>\n",
    "    select(person_id, AcademicYear, Level2Reading, Level2Writing, Level2Maths, Level2Science, Reading, Writing, Maths, Science) |> \n",
    "    mutate(ks1_expected_3 = Level2Reading & Level2Writing & Level2Maths,\n",
    "           ks1_AcademicYear = AcademicYear)\n",
    "\n",
    "ks1_full <- ks1_full_all |> \n",
    "    filter(!is.na(ks1_expected_3)) |> \n",
    "    mutate(ks1_ReadingCat = Reading, ks1_WritingCat = Writing, ks1_MathsCat = Maths, ks1_ScienceCat = Science) |> \n",
    "    mutate(across(ks1_ReadingCat:ks1_ScienceCat, ~ case_when(. %in% c(\"A\", \"D\", \"IN\", \"U\") ~ NA_real_,\n",
    "                                                             . == \"W\" ~ 0,\n",
    "                                                             . == \"1\" ~ 1,\n",
    "                                                             . %in% c(\"2\", \"2C\", \"2B\", \"2A\") ~ 2,\n",
    "                                                             . == \"3\" ~ 3,\n",
    "                                                             . %in% c(\"4\", \"4+\") ~ 4,\n",
    "                                                             . == \"5\" ~ 5,\n",
    "                                                             . == \"6\" ~ 6, \n",
    "                                                             TRUE ~ NA_real_))) |> \n",
    "    mutate(ks1_ReadingBinary = ks1_ReadingCat, ks1_WritingBinary = ks1_WritingCat, ks1_MathsBinary = ks1_MathsCat, ks1_ScienceBinary = ks1_ScienceCat) |> \n",
    "    mutate(across(ks1_ReadingBinary:ks1_ScienceBinary, ~ ifelse(is.na(.), NA, ifelse(. >= 2, TRUE, FALSE)))) |> \n",
    "    select(person_id, ks1_AcademicYear, ks1_ReadingCat:ks1_ScienceCat, ks1_ReadingBinary:ks1_ScienceBinary) |> \n",
    "    mutate(ks1_Expected3 = ifelse(is.na(ks1_ReadingBinary) | is.na(ks1_WritingBinary) | is.na(ks1_MathsBinary), \n",
    "                                  NA, \n",
    "                                  ks1_ReadingBinary & ks1_WritingBinary & ks1_MathsBinary),\n",
    "           ks1_Expected4 = ifelse(is.na(ks1_ReadingBinary) | is.na(ks1_WritingBinary) | is.na(ks1_MathsBinary) | is.na(ks1_ScienceBinary), \n",
    "                                  NA, \n",
    "                                  ks1_ReadingBinary & ks1_WritingBinary & ks1_MathsBinary & ks1_ScienceBinary))\n",
    "\n",
    "# multiple entries?\n",
    "ks1_students_multiple_entries <- ks1_full |> \n",
    "    group_by(person_id) |> \n",
    "    summarise(n = n()) |> \n",
    "    filter(n >= 2) |> \n",
    "    pull(person_id)\n",
    "\n",
    "length(ks1_students_multiple_entries)\n",
    "\n",
    "# remove multiple entries\n",
    "ks1_full <- ks1_full |> \n",
    "    filter(!person_id %in% ks1_students_multiple_entries)"
   ]
  },
  {
   "cell_type": "markdown",
   "id": "f257554f-254f-494f-bd92-540297e9ca2c",
   "metadata": {},
   "source": [
    "### Key Stage 2"
   ]
  },
  {
   "cell_type": "code",
   "execution_count": null,
   "id": "3227d137-636c-4e28-b2c8-7c6df48c2a56",
   "metadata": {
    "vscode": {
     "languageId": "r"
    }
   },
   "outputs": [],
   "source": [
    "ks2_full <- tbl(con, \"src_KS2_pupil\") |>\n",
    "    select(person_id, AcademicYear, ReadingLevel, WritingLevel, MathsLevel, GPSLevel, Level4Reading, Level4Writing, Level4Maths, Level4GPS) |> \n",
    "    mutate(WritingLevel = ifelse(is.na(WritingLevel), GPSLevel, WritingLevel),\n",
    "           Level4Writing = ifelse(is.na(Level4Writing), Level4GPS, Level4Writing),\n",
    "           ks2_AcademicYear = AcademicYear,\n",
    "           ks2_expected_3 = ifelse(is.na(Level4Reading) | is.na(Level4Writing) | is.na(Level4Maths), NA, Level4Reading & Level4Writing & Level4Maths)) |>  \n",
    "    filter(!is.na(ks2_expected_3)) |> \n",
    "    mutate(ks2_ReadingCat = ReadingLevel, ks2_WritingCat = WritingLevel, ks2_MathsCat = MathsLevel) |> \n",
    "    mutate(across(ks2_ReadingCat:ks2_MathsCat, ~ case_when(. %in% c(\"A\", \"M\", \"Q\", \"S\", \"T\", \"X\", \"Z\", \"N\") ~ NA_real_,\n",
    "                                                           . %in% c(\"B\") ~ 0,\n",
    "                                                           . == \"1\" ~ 1,\n",
    "                                                           . %in% c(\"2\", \"2C\", \"2B\", \"2A\") ~ 2,\n",
    "                                                           . == \"3\" ~ 3,\n",
    "                                                           . %in% c(\"4\", \"4+\", \"4C\", \"4B\", \"4A\") ~ 4,\n",
    "                                                           . == \"5\" ~ 5,\n",
    "                                                           . == \"6\" ~ 6, \n",
    "                                                           TRUE ~ NA_real_))) |> \n",
    "    mutate(ks2_ReadingBinary = ks2_ReadingCat, ks2_WritingBinary = ks2_WritingCat, ks2_MathsBinary = ks2_MathsCat) |> \n",
    "    mutate(across(ks2_ReadingBinary:ks2_MathsBinary, ~ ifelse(is.na(.), NA, ifelse(. >= 4, TRUE, FALSE)))) |> \n",
    "    select(person_id, ks2_AcademicYear, ks2_ReadingCat:ks2_MathsCat, ks2_ReadingBinary:ks2_MathsBinary) |> \n",
    "    mutate(ks2_Expected3 = ifelse(is.na(ks2_ReadingBinary) | is.na(ks2_WritingBinary) | is.na(ks2_MathsBinary), NA, ks2_ReadingBinary & ks2_WritingBinary & ks2_MathsBinary))\n",
    "\n",
    "# multiple entries?\n",
    "ks2_students_multiple_entries <- ks2_full |> \n",
    "    group_by(person_id) |> \n",
    "    summarise(n = n()) |> \n",
    "    filter(n >= 2) |> \n",
    "    pull(person_id)\n",
    "\n",
    "length(ks2_students_multiple_entries)\n",
    "\n",
    "# remove multiple entries\n",
    "ks2_full <- ks2_full |> \n",
    "    filter(!person_id %in% ks2_students_multiple_entries)"
   ]
  },
  {
   "cell_type": "markdown",
   "id": "3504edfe-818f-4a47-99d1-da5744bd2324",
   "metadata": {},
   "source": [
    "### Key Stage 4"
   ]
  },
  {
   "cell_type": "code",
   "execution_count": null,
   "id": "ac03a094-f634-48df-8c89-b83d45511b25",
   "metadata": {
    "vscode": {
     "languageId": "r"
    }
   },
   "outputs": [],
   "source": [
    "ks4_full <- tbl(con, \"src_KS4_pupil\") |>\n",
    "    select(person_id, AcademicYear, Entered5, FiveLevel2, FiveLevel2EM, MathsPass, EnglishPass, SciencePass, EnglishAttempt, MathsAttempt, ScienceAttempt, Attainment8, A8Maths, A8English) |> \n",
    "    mutate(ks4_Expected = ifelse(Entered5, FiveLevel2, NA),\n",
    "           ks4_MathsPass = ifelse(MathsAttempt, MathsPass, NA),\n",
    "           ks4_EnglishPass = ifelse(EnglishAttempt, EnglishPass, NA),\n",
    "           ks4_SciencePass = ifelse(ScienceAttempt, SciencePass, NA),\n",
    "           ks4_AcademicYear = AcademicYear,\n",
    "           ks4_Entered5EM = Entered5 & EnglishAttempt & MathsAttempt,\n",
    "           ks4_ExpectedEM = ifelse(ks4_Entered5EM, FiveLevel2EM, NA)) |> \n",
    "    select(person_id, ks4_AcademicYear, ks4_MathsPass, ks4_EnglishPass, ks4_Expected, ks4_ExpectedEM, ks4_SciencePass)\n",
    "\n",
    "bad_AcademicYears <- paste(seq(\"2001\", \"2011\"), seq(\"2002\", \"2012\"), sep = \"/\")\n",
    "\n",
    "# multiple entries?\n",
    "ks4_students_multiple_entries <- ks4_full |> \n",
    "    group_by(person_id) |> \n",
    "    summarise(n = n()) |> \n",
    "    filter(n >= 2) |> \n",
    "    pull(person_id)\n",
    "\n",
    "# remove multiple entries\n",
    "ks4_full <- ks4_full |> \n",
    "    filter(!person_id %in% ks4_students_multiple_entries)"
   ]
  },
  {
   "cell_type": "markdown",
   "id": "6334317b-cf07-40f1-ac35-6982c02a1e71",
   "metadata": {},
   "source": [
    "## Make full dataset"
   ]
  },
  {
   "cell_type": "code",
   "execution_count": null,
   "id": "250e5984-5d1e-43cb-bf30-0c84c537eef2",
   "metadata": {
    "vscode": {
     "languageId": "r"
    }
   },
   "outputs": [],
   "source": [
    "ever_neet_gld_ks1_ks2_ks4 <- ever_neet_gld |> \n",
    "    left_join(\n",
    "        ks1_full |>\n",
    "            mutate(in_ks1 = TRUE),\n",
    "        by = \"person_id\"\n",
    "    ) |> \n",
    "    left_join(\n",
    "        ks2_full |>\n",
    "            mutate(in_ks2 = TRUE),\n",
    "        by = \"person_id\"\n",
    "    ) |> \n",
    "    left_join(\n",
    "        ks4_full |>\n",
    "            mutate(in_ks4 = TRUE),\n",
    "        by = \"person_id\"\n",
    "    ) |> \n",
    "    collect()\n",
    "\n",
    "ever_neet_gld_ks1_ks2_ks4_covariates <- ever_neet_gld_ks1_ks2_ks4 |> \n",
    "    collect() |> \n",
    "    left_join(gender) |> \n",
    "    left_join(month_of_birth) |> \n",
    "    left_join(ethnicity) |> \n",
    "    left_join(english_additional_language) |> \n",
    "    left_join(fsm) |> \n",
    "    left_join(sen) |> \n",
    "    mutate(across(c(ever_fsm, ever_sen), as.numeric)) |> \n",
    "    filter(!is.na(CombinedEthnicity), !is.na(Male), !is.na(EAL), !is.na(ever_fsm), !is.na(ever_sen))\n",
    "\n",
    "nrow(ever_neet_gld_ks1_ks2_ks4_covariates)"
   ]
  },
  {
   "cell_type": "markdown",
   "id": "ee7d74b6-8b87-47ce-b736-11d978c82ea4",
   "metadata": {},
   "source": [
    "### Academic missingness"
   ]
  },
  {
   "cell_type": "markdown",
   "id": "7e7ecf92-d430-4ec6-80c5-e86debbac6d8",
   "metadata": {},
   "source": [
    "#### KS1"
   ]
  },
  {
   "cell_type": "code",
   "execution_count": null,
   "id": "0ed891b1-ca4d-446b-96fe-fc15a1ec3492",
   "metadata": {
    "vscode": {
     "languageId": "r"
    }
   },
   "outputs": [],
   "source": [
    "ever_neet_gld_ks1_ks2_ks4_covariates |> \n",
    "    group_by(ks1_ReadingBinary, ks1_WritingBinary, ks1_MathsBinary) |> \n",
    "    rowwise() |> \n",
    "    mutate(any_passed = any(!is.na(ks1_ReadingBinary) & ks1_ReadingBinary, !is.na(ks1_WritingBinary) & ks1_WritingBinary, !is.na(ks1_MathsBinary) & ks1_MathsBinary),\n",
    "           any_na = any(is.na(ks1_ReadingBinary), is.na(ks1_WritingBinary), is.na(ks1_MathsBinary)),\n",
    "           num_na = sum(is.na(ks1_ReadingBinary), is.na(ks1_WritingBinary), is.na(ks1_MathsBinary))) |> \n",
    "    group_by(any_passed, any_na, num_na) |> \n",
    "    summarise(n = n())\n",
    "\n",
    "# not in dataset at all\n",
    "sum(is.na(ever_neet_gld_ks1_ks2_ks4_covariates$ks1_AcademicYear))"
   ]
  },
  {
   "cell_type": "markdown",
   "id": "992e306e-0117-4e47-a5b7-cb4e29f53246",
   "metadata": {},
   "source": [
    "#### KS2"
   ]
  },
  {
   "cell_type": "code",
   "execution_count": null,
   "id": "57a57711-0a1c-4265-ba3f-698a9e504137",
   "metadata": {
    "vscode": {
     "languageId": "r"
    }
   },
   "outputs": [],
   "source": [
    "ever_neet_gld_ks1_ks2_ks4_covariates |> \n",
    "    group_by(ks2_ReadingBinary, ks2_WritingBinary, ks2_MathsBinary) |> \n",
    "    rowwise() |> \n",
    "    mutate(any_passed = any(!is.na(ks2_ReadingBinary) & ks2_ReadingBinary, !is.na(ks2_WritingBinary) & ks2_WritingBinary, !is.na(ks2_MathsBinary) & ks2_MathsBinary),\n",
    "           any_na = any(is.na(ks2_ReadingBinary), is.na(ks2_WritingBinary), is.na(ks2_MathsBinary)),\n",
    "           num_na = sum(is.na(ks2_ReadingBinary), is.na(ks2_WritingBinary), is.na(ks2_MathsBinary))) |> \n",
    "    group_by(any_passed, any_na, num_na) |> \n",
    "    summarise(n = n())\n",
    "\n",
    "sum(is.na(ever_neet_gld_ks1_ks2_ks4_covariates$ks2_AcademicYear))"
   ]
  },
  {
   "cell_type": "markdown",
   "id": "d47aab45-68bb-4018-875a-ec10e55ab0d9",
   "metadata": {},
   "source": [
    "#### KS4"
   ]
  },
  {
   "cell_type": "code",
   "execution_count": null,
   "id": "7a9c6ae1-4af3-4fbe-a6aa-3b8f1fef1de1",
   "metadata": {
    "vscode": {
     "languageId": "r"
    }
   },
   "outputs": [],
   "source": [
    "ever_neet_gld_ks1_ks2_ks4_covariates |> \n",
    "    group_by(ks4_MathsPass, ks4_EnglishPass, ks4_Expected) |> \n",
    "    rowwise() |> \n",
    "    mutate(any_passed = any(!is.na(ks4_MathsPass) & ks4_MathsPass, !is.na(ks4_EnglishPass) & ks4_EnglishPass, !is.na(ks4_Expected) & ks4_Expected),\n",
    "           any_na = any(is.na(ks4_MathsPass), is.na(ks4_EnglishPass), is.na(ks4_Expected)),\n",
    "           num_na = sum(is.na(ks4_MathsPass), is.na(ks4_EnglishPass), is.na(ks4_Expected))) |> \n",
    "    group_by(any_passed, any_na, num_na) |> \n",
    "    summarise(n = n())\n",
    "\n",
    "sum(is.na(ever_neet_gld_ks1_ks2_ks4_covariates$ks4_AcademicYear))"
   ]
  },
  {
   "cell_type": "markdown",
   "id": "a8a7938d-eab3-4aaf-9d5b-27b2386d5ce8",
   "metadata": {},
   "source": [
    "### Model 3"
   ]
  },
  {
   "cell_type": "code",
   "execution_count": null,
   "id": "2681239c-ad82-47d1-8bea-6946498f009b",
   "metadata": {
    "vscode": {
     "languageId": "r"
    }
   },
   "outputs": [],
   "source": [
    "gld_ks1_ks2_ks4_neet_direct_expected_eq <- '\n",
    "    ks1 ~ a*gld_dummy\n",
    "    ks2 ~ b*ks1\n",
    "    ks4 ~ c*ks2\n",
    "    ever_neet ~ d*gld_dummy + e*ks4\n",
    "\n",
    "    ks1 =~ ks1_WritingCat + ks1_ReadingCat + ks1_MathsCat\n",
    "    ks2 =~ ks2_WritingCat + ks2_ReadingCat + ks2_MathsCat\n",
    "    ks4 =~ ks4_MathsPass + ks4_EnglishPass + ks4_Expected\n",
    "\n",
    "    gld_direct := d\n",
    "    gld_indirect := a*b*c*e\n",
    "    total := gld_direct + gld_indirect\n",
    "'\n",
    "\n",
    "gld_ks1_ks2_ks4_neet_direct_expected_fit <- sem(gld_ks1_ks2_ks4_neet_direct_expected_eq, ever_neet_gld_ks1_ks2_ks4_covariates, \n",
    "   ordered = c(\"ks1_WritingCat\", \"ks1_ReadingCat\", \"ks1_MathsCat\", \"ks2_WritingCat\", \"ks2_ReadingCat\", \"ks2_MathsCat\", \"ks4_MathsPass\", \"ks4_EnglishPass\", \"ks4_Expected\", \"ever_neet\"),\n",
    "   missing = \"pairwise\")\n",
    "\n",
    "print(summary(gld_ks1_ks2_ks4_neet_direct_expected_fit, standardized=TRUE))\n",
    "parameterEstimates(gld_ks1_ks2_ks4_neet_direct_expected_fit, ci = TRUE)\n",
    "fitMeasures(gld_ks1_ks2_ks4_neet_direct_expected_fit, c(\"chisq\", \"df\", \"pvalue\", \"cfi\", \"rmsea\"))"
   ]
  },
  {
   "cell_type": "markdown",
   "id": "7ae964ca-ba46-46e9-bfd5-b8ad6250837a",
   "metadata": {},
   "source": [
    "### Model 4"
   ]
  },
  {
   "cell_type": "code",
   "execution_count": null,
   "id": "aaef793f-9fe2-433e-bf35-c1b6ada3f1ec",
   "metadata": {
    "vscode": {
     "languageId": "r"
    }
   },
   "outputs": [],
   "source": [
    "gld_ks1_ks2_ks4_neet_direct_expected_cov_eq <- '\n",
    "    ks1 ~ a*gld_dummy + EthnicityAsian + EthnicityOther + EAL + Male + academic_month_of_birth + ever_fsm + ever_sen\n",
    "    ks2 ~ b*ks1 + EthnicityAsian + EthnicityOther + EAL + Male + academic_month_of_birth + ever_fsm + ever_sen\n",
    "    ks4 ~ c*ks2 + EthnicityAsian + EthnicityOther + EAL + Male + academic_month_of_birth + ever_fsm + ever_sen\n",
    "    ever_neet ~ d*gld_dummy + e*ks4 + EthnicityAsian + EthnicityOther + EAL + Male + academic_month_of_birth + ever_fsm + ever_sen\n",
    "\n",
    "    ks1 =~ ks1_WritingCat + ks1_ReadingCat + ks1_MathsCat\n",
    "    ks2 =~ ks2_WritingCat + ks2_ReadingCat + ks2_MathsCat\n",
    "    ks4 =~ ks4_MathsPass + ks4_EnglishPass + ks4_Expected\n",
    "\n",
    "    gld_direct := d\n",
    "    gld_indirect := a*b*c*e\n",
    "    total := gld_direct + gld_indirect\n",
    "'\n",
    "\n",
    "gld_ks1_ks2_ks4_neet_direct_expected_cov_fit <- sem(gld_ks1_ks2_ks4_neet_direct_expected_cov_eq, ever_neet_gld_ks1_ks2_ks4_covariates, \n",
    "   ordered = c(\"ks1_WritingCat\", \"ks1_ReadingCat\", \"ks1_MathsCat\", \"ks2_WritingCat\", \"ks2_ReadingCat\", \"ks2_MathsCat\", \"ks4_MathsPass\", \"ks4_EnglishPass\", \"ks4_Expected\", \"ever_neet\"),\n",
    "   missing = \"pairwise\")\n",
    "\n",
    "print(summary(gld_ks1_ks2_ks4_neet_direct_expected_cov_fit, standardized=TRUE))\n",
    "parameterEstimates(gld_ks1_ks2_ks4_neet_direct_expected_cov_fit, ci = TRUE)\n",
    "fitMeasures(gld_ks1_ks2_ks4_neet_direct_expected_cov_fit, c(\"chisq\", \"df\", \"pvalue\", \"cfi\", \"rmsea\"))"
   ]
  },
  {
   "cell_type": "markdown",
   "id": "f35b0bb1-d51a-4d13-a72b-64c03cd180b3",
   "metadata": {},
   "source": [
    "### Combined Plot"
   ]
  },
  {
   "cell_type": "code",
   "execution_count": null,
   "id": "93cc5577-bf16-4a33-9715-e971ac3b46de",
   "metadata": {
    "vscode": {
     "languageId": "r"
    }
   },
   "outputs": [],
   "source": [
    "model1_coefs <- broom::tidy(neet_gld_model_probit, conf.int = TRUE)[2, ] |> \n",
    "    mutate(model = \"Model 1\", path = \"GLD -> NEET (Total)\") |> \n",
    "    select(model, path, estimate, conf.low, conf.high, p.value)\n",
    "model2_coefs <- broom::tidy(neet_gld_cov_model_probit, conf.int = TRUE)[2, ] |> \n",
    "    mutate(model = \"Model 2\", path = \"GLD -> NEET (Total)\") |> \n",
    "    select(model, path, estimate, conf.low, conf.high, p.value)\n",
    "model3_coefs <- broom::tidy(gld_ks1_ks2_ks4_neet_direct_expected_fit, conf.int = TRUE)[c(1:3, 5, 82, 83), ] |> \n",
    "    mutate(model = \"Model 3\", path = c(\"GLD -> KS1\", \"KS1 -> KS2\", \"KS2 -> KS4\", \"KS4-> NEET\", \"GLD -> NEET (Direct)\", \"GLD -> NEET (Indirect)\")) |> \n",
    "    select(model, path, estimate, conf.low, conf.high, p.value)\n",
    "model4_coefs <- broom::tidy(gld_ks1_ks2_ks4_neet_direct_expected_cov_fit, conf.int = TRUE)[c(1, 9, 17, 26, 152, 153), ] |> \n",
    "    mutate(model = \"Model 4\", path = c(\"GLD -> KS1\", \"KS1 -> KS2\", \"KS2 -> KS4\", \"KS4-> NEET\", \"GLD -> NEET (Direct)\", \"GLD -> NEET (Indirect)\")) |> \n",
    "    select(model, path, estimate, conf.low, conf.high, p.value)\n",
    "\n",
    "all_coefs <- rbind(model1_coefs, model2_coefs, model3_coefs, model4_coefs) |> \n",
    "    mutate(path = factor(path, levels = c(\"GLD -> NEET (Total)\", \"GLD -> NEET (Direct)\", \"GLD -> NEET (Indirect)\", \"GLD -> KS1\", \"KS1 -> KS2\", \"KS2 -> KS4\", \"KS4-> NEET\"))) |> \n",
    "    arrange(model, path)\n",
    "all_coefs "
   ]
  },
  {
   "cell_type": "code",
   "execution_count": null,
   "id": "9ac78410-38a5-4768-ae88-66ff9d273e70",
   "metadata": {
    "vscode": {
     "languageId": "r"
    }
   },
   "outputs": [],
   "source": [
    "model_colors <- PNWColors::pnw_palette(\"Bay\", 4, type = \"discrete\")\n",
    "\n",
    "coefficient_plot <- ggplot(all_coefs, aes(x = estimate, y = path, color = model)) +\n",
    "    geom_vline(xintercept = 0, linetype = \"dotted\", color = \"gray50\") +\n",
    "    ggstance::geom_crossbarh(aes(xmin = conf.low, xmax = conf.high, fill = model), width = 0.5, size = 0.5, alpha = 0.2, fatten = 1.5, position = ggstance::position_dodgev(height = -0.7), color = NA) +\n",
    "    ggstance::geom_crossbarh(aes(xmin = conf.low, xmax = conf.high, fill = model), width = 0.5, alpha = 0, size = 0.05, fatten = 10, position = ggstance::position_dodgev(height = -0.7)) +\n",
    "    scale_y_discrete(limits = rev) +\n",
    "    cowplot::theme_cowplot() +\n",
    "    labs(x = \"Estimate\", y = \"\") +\n",
    "    theme(axis.line.y = element_blank(),\n",
    "          axis.ticks.y = element_blank(),\n",
    "          axis.text = element_text(size = 7),\n",
    "          axis.title = element_text(size = 9),\n",
    "          legend.text = element_text(size = 7),\n",
    "          legend.title = element_blank(),\n",
    "          legend.position = c(.95, .95),\n",
    "          legend.justification = c(\"right\", \"top\"),\n",
    "          axis.title.y = element_blank()) +\n",
    "    scale_x_continuous(limits = c(-1, 1.5), breaks = seq(-1, 1.5, 0.5)) +\n",
    "    scale_color_manual(values = model_colors) +\n",
    "    scale_fill_manual(values = model_colors)\n",
    "coefficient_plot"
   ]
  },
  {
   "cell_type": "code",
   "execution_count": null,
   "id": "1a414244-88ea-444f-b91e-31ee9cc73e99",
   "metadata": {
    "vscode": {
     "languageId": "r"
    }
   },
   "outputs": [],
   "source": [
    "ggsave(file=\"coefficients.svg\", width=3, height=3, device = \"svg\", fix_text_size = FALSE)"
   ]
  }
 ],
 "metadata": {
  "environment": {
   "kernel": "ir",
   "name": "r-cpu.4-2.m111",
   "type": "gcloud",
   "uri": "gcr.io/deeplearning-platform-release/r-cpu.4-2:m111"
  },
  "kernelspec": {
   "display_name": "R",
   "language": "R",
   "name": "ir"
  },
  "language_info": {
   "codemirror_mode": "r",
   "file_extension": ".r",
   "mimetype": "text/x-r-source",
   "name": "R",
   "pygments_lexer": "r",
   "version": "4.3.1"
  }
 },
 "nbformat": 4,
 "nbformat_minor": 5
}
